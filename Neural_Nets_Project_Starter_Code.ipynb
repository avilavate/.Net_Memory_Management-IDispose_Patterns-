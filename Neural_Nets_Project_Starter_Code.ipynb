{
  "nbformat": 4,
  "nbformat_minor": 0,
  "metadata": {
    "colab": {
      "name": "Neural_Nets_Project_Starter_Code.ipynb",
      "provenance": [],
      "collapsed_sections": [],
      "include_colab_link": true
    },
    "kernelspec": {
      "display_name": "Python 3",
      "language": "python",
      "name": "python3"
    },
    "language_info": {
      "codemirror_mode": {
        "name": "ipython",
        "version": 3
      },
      "file_extension": ".py",
      "mimetype": "text/x-python",
      "name": "python",
      "nbconvert_exporter": "python",
      "pygments_lexer": "ipython3",
      "version": "3.6.5"
    }
  },
  "cells": [
    {
      "cell_type": "markdown",
      "metadata": {
        "id": "view-in-github",
        "colab_type": "text"
      },
      "source": [
        "<a href=\"https://colab.research.google.com/github/avilavate/.Net_Memory_Management-IDispose_Patterns-/blob/master/Neural_Nets_Project_Starter_Code.ipynb\" target=\"_parent\"><img src=\"https://colab.research.google.com/assets/colab-badge.svg\" alt=\"Open In Colab\"/></a>"
      ]
    },
    {
      "cell_type": "markdown",
      "metadata": {
        "id": "C5nzAhIUsJ21"
      },
      "source": [
        "# Gesture Recognition\n",
        "In this group project, you are going to build a 3D Conv model that will be able to predict the 5 gestures correctly. Please import the following libraries to get started."
      ]
    },
    {
      "cell_type": "code",
      "metadata": {
        "id": "OCoD9VQ9sJ26"
      },
      "source": [
        "import numpy as np\n",
        "import os\n",
        "#from scipy.misc import  imresize\n",
        "from imageio import imread\n",
        "import cv2\n",
        "import datetime\n",
        "import os"
      ],
      "execution_count": 2,
      "outputs": []
    },
    {
      "cell_type": "code",
      "metadata": {
        "colab": {
          "base_uri": "https://localhost:8080/"
        },
        "id": "tAwf0CUEQ4G6",
        "outputId": "93f4a486-7ea0-4f17-efad-432528c4cd51"
      },
      "source": [
        "from google.colab import drive\n",
        "drive.mount('/content/drive')"
      ],
      "execution_count": 3,
      "outputs": [
        {
          "output_type": "stream",
          "name": "stdout",
          "text": [
            "Mounted at /content/drive\n"
          ]
        }
      ]
    },
    {
      "cell_type": "code",
      "metadata": {
        "colab": {
          "base_uri": "https://localhost:8080/"
        },
        "id": "Fru7-u5mRJef",
        "outputId": "99294058-c58d-42ec-acf4-4091a34f0603"
      },
      "source": [
        "!ls \"/content/drive/My Drive/Project_data\""
      ],
      "execution_count": 4,
      "outputs": [
        {
          "output_type": "stream",
          "name": "stdout",
          "text": [
            "train  train.csv  val  val.csv\n"
          ]
        }
      ]
    },
    {
      "cell_type": "code",
      "metadata": {
        "id": "XGXS7NKwHv75"
      },
      "source": [
        "#!!pip install rasa==1.1.4"
      ],
      "execution_count": 5,
      "outputs": []
    },
    {
      "cell_type": "markdown",
      "metadata": {
        "id": "o_xoTRE9sJ27"
      },
      "source": [
        "We set the random seed so that the results don't vary drastically."
      ]
    },
    {
      "cell_type": "code",
      "metadata": {
        "id": "NYdL9owJsJ28"
      },
      "source": [
        "np.random.seed(30)\n",
        "import random as rn\n",
        "rn.seed(30)\n",
        "from keras import backend as K\n",
        "import tensorflow as tf\n",
        "tf.random.set_seed(30)"
      ],
      "execution_count": 6,
      "outputs": []
    },
    {
      "cell_type": "markdown",
      "metadata": {
        "id": "P3jHD6ffsJ29"
      },
      "source": [
        "In this block, you read the folder names for training and validation. You also set the `batch_size` here. Note that you set the batch size in such a way that you are able to use the GPU in full capacity. You keep increasing the batch size until the machine throws an error."
      ]
    },
    {
      "cell_type": "code",
      "metadata": {
        "id": "3tMTDdk1sJ29"
      },
      "source": [
        "train_doc = np.random.permutation(open('/content/drive/MyDrive/Project_data/train.csv').readlines())\n",
        "val_doc = np.random.permutation(open('/content/drive/MyDrive/Project_data/val.csv').readlines())\n",
        "batch_size = 10"
      ],
      "execution_count": 7,
      "outputs": []
    },
    {
      "cell_type": "code",
      "metadata": {
        "colab": {
          "base_uri": "https://localhost:8080/"
        },
        "id": "QW1mQg6lR7tK",
        "outputId": "8097c5e9-0e7b-4ba9-cea2-8287a8f3b994"
      },
      "source": [
        "print(train_doc[:10])"
      ],
      "execution_count": 8,
      "outputs": [
        {
          "output_type": "stream",
          "name": "stdout",
          "text": [
            "['WIN_20180926_16_54_08_Pro_Right_Swipe_new;Right_Swipe_new;1\\n'\n",
            " 'WIN_20180925_18_02_58_Pro_Thumbs_Down_new;Thumbs_Down_new;3\\n'\n",
            " 'WIN_20180925_17_33_08_Pro_Left_Swipe_new;Left_Swipe_new;0\\n'\n",
            " 'WIN_20180925_17_51_17_Pro_Thumbs_Up_new;Thumbs_Up_new;4\\n'\n",
            " 'WIN_20180926_17_17_35_Pro_Left_Swipe_new;Left_Swipe_new;0\\n'\n",
            " 'WIN_20180926_17_30_47_Pro_Thumbs_Up_new;Thumbs_Up_new;4\\n'\n",
            " 'WIN_20180926_17_29_23_Pro_Stop_new;Stop_new;2\\n'\n",
            " 'WIN_20180926_17_12_26_Pro_Thumbs_Up_new;Thumbs_Up_new;4\\n'\n",
            " 'WIN_20180926_17_29_01_Pro_Stop_new;Stop_new;2\\n'\n",
            " 'WIN_20180907_16_32_11_Pro_Stop Gesture_new;Stop Gesture_new;2\\n']\n"
          ]
        }
      ]
    },
    {
      "cell_type": "code",
      "metadata": {
        "colab": {
          "base_uri": "https://localhost:8080/"
        },
        "id": "T_zQAWZDSTLI",
        "outputId": "fd8ddf74-4ba3-44fe-cbea-c867177f171e"
      },
      "source": [
        "print(val_doc[:10])"
      ],
      "execution_count": 9,
      "outputs": [
        {
          "output_type": "stream",
          "name": "stdout",
          "text": [
            "['WIN_20180926_17_24_20_Pro_Thumbs_Down_new;Thumbs_Down_new;3\\n'\n",
            " 'WIN_20180907_15_54_30_Pro_Thumbs Up_new;Thumbs Up_new;4\\n'\n",
            " 'WIN_20180926_17_08_11_Pro_Stop_new;Stop_new;2\\n'\n",
            " 'WIN_20180925_18_01_40_Pro_Left_Swipe_new;Left_Swipe_new;0\\n'\n",
            " 'WIN_20180907_16_16_48_Pro_Stop Gesture_new;Stop Gesture_new;2\\n'\n",
            " 'WIN_20180907_16_33_15_Pro_Thumbs Down_new;Thumbs Down_new;3\\n'\n",
            " 'WIN_20180926_16_46_22_Pro_Left_Swipe_new;Left_Swipe_new;0\\n'\n",
            " 'WIN_20180907_16_25_44_Pro_Stop Gesture_new;Stop Gesture_new;2\\n'\n",
            " 'WIN_20180926_17_05_38_Pro_Thumbs_Down_new;Thumbs_Down_new;3\\n'\n",
            " 'WIN_20180907_15_55_06_Pro_Right Swipe_new;Right Swipe_new;1\\n']\n"
          ]
        }
      ]
    },
    {
      "cell_type": "markdown",
      "metadata": {
        "id": "B1jpaWqZsJ2-"
      },
      "source": [
        "## Generator\n",
        "This is one of the most important part of the code. The overall structure of the generator has been given. In the generator, you are going to preprocess the images as you have images of 2 different dimensions as well as create a batch of video frames. You have to experiment with `img_idx`, `y`,`z` and normalization such that you get high accuracy."
      ]
    },
    {
      "cell_type": "code",
      "metadata": {
        "id": "q5K06GEesJ2-"
      },
      "source": [
        "classes = 5 #left swipe, right swipe, thumbs up, thumbs down, stop\n",
        "channel = 3\n",
        "x = 30 # number of frames\n",
        "y = 120 # image width\n",
        "z = 120 # image height\n",
        "\n",
        "def generator(source_path, folder_list, batch_size):\n",
        "    print( 'Source path = ', source_path, '; batch size =', batch_size)\n",
        "    img_idx = [x for x in range(0,x)] #create a list of image numbers you want to use for a particular video\n",
        "    while True:\n",
        "        t = np.random.permutation(folder_list)\n",
        "        num_batches = len(folder_list)//batch_size # calculate the number of batches\n",
        "        for batch in range(num_batches): # we iterate over the number of batches\n",
        "            batch_data = np.zeros((batch_size,x,y,z,3)) # x is the number of images you use for each video, (y,z) is the final size of the input images and 3 is the number of channels RGB\n",
        "            batch_labels = np.zeros((batch_size,5)) # batch_labels is the one hot representation of the output\n",
        "            for folder in range(batch_size): # iterate over the batch_size\n",
        "                imgs = os.listdir(source_path+'/'+ t[folder + (batch*batch_size)].split(';')[0]) # read all the images in the folder\n",
        "                for idx,item in enumerate(img_idx): #  Iterate iver the frames/images of a folder to read them in\n",
        "                    image = imread(source_path+'/'+ t[folder + (batch*batch_size)].strip().split(';')[0]+'/'+imgs[item]).astype(np.float32)\n",
        "                    \n",
        "                    #crop the images and resize them. Note that the images are of 2 different shape \n",
        "                    #and the conv3D will throw error if the inputs in a batch have different shapes\n",
        "                    \n",
        "                    temp = cv2.resize(image,(120,120))\n",
        "                    temp = temp/127.5-1 #Normalize data\n",
        "                    \n",
        "                    batch_data[folder,idx,:,:,0] = (temp[:,:,0]) #normalise and feed in the image\n",
        "                    batch_data[folder,idx,:,:,1] = (temp[:,:,1]) #normalise and feed in the image\n",
        "                    batch_data[folder,idx,:,:,2] = (temp[:,:,2]) #normalise and feed in the image\n",
        "                    \n",
        "                batch_labels[folder, int(t[folder + (batch*batch_size)].strip().split(';')[2])] = 1\n",
        "            yield batch_data, batch_labels #you yield the batch_data and the batch_labels, remember what does yield do\n",
        "\n",
        "        \n",
        "        # write the code for the remaining data points which are left after full batches\n",
        "        if (len(folder_list) != batch_size*num_batches):\n",
        "            print(\"Batch: \",num_batches+1,\"Index:\", batch_size)\n",
        "            batch_size = len(folder_list) - (batch_size*num_batches)\n",
        "            batch_data = np.zeros((batch_size,x,y,z,3)) # x is the number of images you use for each video, (y,z) is the final size of the input images and 3 is the number of channels RGB\n",
        "            batch_labels = np.zeros((batch_size,5)) # batch_labels is the one hot representation of the output\n",
        "            for folder in range(batch_size): # iterate over the batch_size\n",
        "                imgs = os.listdir(source_path+'/'+ t[folder + (batch*batch_size)].split(';')[0]) # read all the images in the folder\n",
        "                for idx,item in enumerate(img_idx): #  Iterate iver the frames/images of a folder to read them in\n",
        "                    image = imread(source_path+'/'+ t[folder + (batch*batch_size)].strip().split(';')[0]+'/'+imgs[item]).astype(np.float32)\n",
        "                    \n",
        "                    #crop the images and resize them. Note that the images are of 2 different shape \n",
        "                    #and the conv3D will throw error if the inputs in a batch have different shapes\n",
        "                    temp = cv2.resize(image,(120,120))\n",
        "                    temp = temp/127.5-1 #Normalize data\n",
        "                    \n",
        "                    batch_data[folder,idx,:,:,0] = (temp[:,:,0])\n",
        "                    batch_data[folder,idx,:,:,1] = (temp[:,:,1])\n",
        "                    batch_data[folder,idx,:,:,2] = (temp[:,:,2])\n",
        "                   \n",
        "                batch_labels[folder, int(t[folder + (batch*batch_size)].strip().split(';')[2])] = 1\n",
        "            yield batch_data, batch_labels\n"
      ],
      "execution_count": 10,
      "outputs": []
    },
    {
      "cell_type": "markdown",
      "metadata": {
        "id": "3f-V1ueusJ3A"
      },
      "source": [
        "Note here that a video is represented above in the generator as (number of images, height, width, number of channels). Take this into consideration while creating the model architecture."
      ]
    },
    {
      "cell_type": "code",
      "metadata": {
        "colab": {
          "base_uri": "https://localhost:8080/"
        },
        "id": "zvmCZ18fsJ3B",
        "outputId": "40fa1bd8-a9d0-4435-bb0f-1a2e1a679eea"
      },
      "source": [
        "curr_dt_time = datetime.datetime.now()\n",
        "train_path = '/content/drive/MyDrive/Project_data/train'\n",
        "val_path = '/content/drive/MyDrive/Project_data/val'\n",
        "num_train_sequences = len(train_doc)\n",
        "print('# training sequences =', num_train_sequences)\n",
        "num_val_sequences = len(val_doc)\n",
        "print('# validation sequences =', num_val_sequences)\n",
        "num_epochs =10\n",
        "print ('# epochs =', num_epochs)"
      ],
      "execution_count": 11,
      "outputs": [
        {
          "output_type": "stream",
          "name": "stdout",
          "text": [
            "# training sequences = 663\n",
            "# validation sequences = 100\n",
            "# epochs = 10\n"
          ]
        }
      ]
    },
    {
      "cell_type": "markdown",
      "metadata": {
        "id": "IyRxe7l3sJ3C"
      },
      "source": [
        "## Model\n",
        "Here you make the model using different functionalities that Keras provides. Remember to use `Conv3D` and `MaxPooling3D` and not `Conv2D` and `Maxpooling2D` for a 3D convolution model. You would want to use `TimeDistributed` while building a Conv2D + RNN model. Also remember that the last layer is the softmax. Design the network in such a way that the model is able to give good accuracy on the least number of parameters so that it can fit in the memory of the webcam."
      ]
    },
    {
      "cell_type": "code",
      "metadata": {
        "id": "_3GsEJY4sJ3C"
      },
      "source": [
        "from keras.models import Sequential, Model\n",
        "from keras.layers import Dense, GRU, Flatten, TimeDistributed, Flatten, BatchNormalization, Activation\n",
        "from keras.layers.convolutional import Conv3D, MaxPooling3D\n",
        "from keras.callbacks import ModelCheckpoint, ReduceLROnPlateau\n",
        "from keras import optimizers\n",
        "#from tensorflow.keras import optimizers\n",
        "\n",
        "#write your model here"
      ],
      "execution_count": 12,
      "outputs": []
    },
    {
      "cell_type": "code",
      "metadata": {
        "id": "Pj5p09Wbeg_H"
      },
      "source": [
        "model_a = Sequential()\n",
        "\n",
        "model_a.add(Conv3D(8, #number of filters \n",
        "                 kernel_size=(3,3,3), \n",
        "                 input_shape=(30, 120, 120, 3),\n",
        "                 padding='same'))\n",
        "model_a.add(BatchNormalization())\n",
        "model_a.add(Activation('relu'))\n",
        "\n",
        "model_a.add(MaxPooling3D(pool_size=(2,2,2)))\n",
        "\n",
        "model_a.add(Conv3D(16, #Number of filters, \n",
        "                 kernel_size=(3,3,3), \n",
        "                 padding='same'))\n",
        "model_a.add(BatchNormalization())\n",
        "model_a.add(Activation('relu'))\n",
        "\n",
        "model_a.add(MaxPooling3D(pool_size=(2,2,2)))\n",
        "\n",
        "model_a.add(Conv3D(32, #Number of filters \n",
        "                 kernel_size=(1,3,3), \n",
        "                 padding='same'))\n",
        "model_a.add(BatchNormalization())\n",
        "model_a.add(Activation('relu'))\n",
        "\n",
        "model_a.add(MaxPooling3D(pool_size=(2,2,2)))\n",
        "\n",
        "model_a.add(Conv3D(64, #Number pf filters \n",
        "                 kernel_size=(1,3,3), \n",
        "                 padding='same'))\n",
        "model_a.add(BatchNormalization())\n",
        "model_a.add(Activation('relu'))\n",
        "\n",
        "model_a.add(MaxPooling3D(pool_size=(2,2,2)))\n",
        "\n",
        "#Flatten Layers\n",
        "model_a.add(Flatten())\n",
        "\n",
        "model_a.add(Dense(1000, activation='relu'))\n",
        "#model_a.add(keras.layers.Dropout(0.5))\n",
        "\n",
        "model_a.add(Dense(500, activation='relu'))\n",
        "#model_a.add(Dropout(0.5))\n",
        "\n",
        "#softmax layer\n",
        "model_a.add(Dense(5, activation='softmax'))"
      ],
      "execution_count": 13,
      "outputs": []
    },
    {
      "cell_type": "markdown",
      "metadata": {
        "id": "s34uc7yJsJ3C"
      },
      "source": [
        "Now that you have written the model, the next step is to `compile` the model. When you print the `summary` of the model, you'll see the total number of parameters you have to train."
      ]
    },
    {
      "cell_type": "code",
      "metadata": {
        "colab": {
          "base_uri": "https://localhost:8080/"
        },
        "id": "QibHbFfDsJ3D",
        "scrolled": true,
        "outputId": "9ff339d6-0528-4ddc-9dc1-e93b16e1c779"
      },
      "source": [
        "#optimiser = #write your optimizer\n",
        "model_a.compile(optimizer='adam', loss='categorical_crossentropy', metrics=['categorical_accuracy'])\n",
        "model_a.summary()\n",
        "\n"
      ],
      "execution_count": 14,
      "outputs": [
        {
          "output_type": "stream",
          "name": "stdout",
          "text": [
            "Model: \"sequential\"\n",
            "_________________________________________________________________\n",
            "Layer (type)                 Output Shape              Param #   \n",
            "=================================================================\n",
            "conv3d (Conv3D)              (None, 30, 120, 120, 8)   656       \n",
            "_________________________________________________________________\n",
            "batch_normalization (BatchNo (None, 30, 120, 120, 8)   32        \n",
            "_________________________________________________________________\n",
            "activation (Activation)      (None, 30, 120, 120, 8)   0         \n",
            "_________________________________________________________________\n",
            "max_pooling3d (MaxPooling3D) (None, 15, 60, 60, 8)     0         \n",
            "_________________________________________________________________\n",
            "conv3d_1 (Conv3D)            (None, 15, 60, 60, 16)    3472      \n",
            "_________________________________________________________________\n",
            "batch_normalization_1 (Batch (None, 15, 60, 60, 16)    64        \n",
            "_________________________________________________________________\n",
            "activation_1 (Activation)    (None, 15, 60, 60, 16)    0         \n",
            "_________________________________________________________________\n",
            "max_pooling3d_1 (MaxPooling3 (None, 7, 30, 30, 16)     0         \n",
            "_________________________________________________________________\n",
            "conv3d_2 (Conv3D)            (None, 7, 30, 30, 32)     4640      \n",
            "_________________________________________________________________\n",
            "batch_normalization_2 (Batch (None, 7, 30, 30, 32)     128       \n",
            "_________________________________________________________________\n",
            "activation_2 (Activation)    (None, 7, 30, 30, 32)     0         \n",
            "_________________________________________________________________\n",
            "max_pooling3d_2 (MaxPooling3 (None, 3, 15, 15, 32)     0         \n",
            "_________________________________________________________________\n",
            "conv3d_3 (Conv3D)            (None, 3, 15, 15, 64)     18496     \n",
            "_________________________________________________________________\n",
            "batch_normalization_3 (Batch (None, 3, 15, 15, 64)     256       \n",
            "_________________________________________________________________\n",
            "activation_3 (Activation)    (None, 3, 15, 15, 64)     0         \n",
            "_________________________________________________________________\n",
            "max_pooling3d_3 (MaxPooling3 (None, 1, 7, 7, 64)       0         \n",
            "_________________________________________________________________\n",
            "flatten (Flatten)            (None, 3136)              0         \n",
            "_________________________________________________________________\n",
            "dense (Dense)                (None, 1000)              3137000   \n",
            "_________________________________________________________________\n",
            "dense_1 (Dense)              (None, 500)               500500    \n",
            "_________________________________________________________________\n",
            "dense_2 (Dense)              (None, 5)                 2505      \n",
            "=================================================================\n",
            "Total params: 3,667,749\n",
            "Trainable params: 3,667,509\n",
            "Non-trainable params: 240\n",
            "_________________________________________________________________\n"
          ]
        }
      ]
    },
    {
      "cell_type": "markdown",
      "metadata": {
        "id": "1BEDNCKRsJ3D"
      },
      "source": [
        "Let us create the `train_generator` and the `val_generator` which will be used in `.fit_generator`."
      ]
    },
    {
      "cell_type": "code",
      "metadata": {
        "id": "UjpUhJOXsJ3D"
      },
      "source": [
        "train_generator = generator(train_path, train_doc, batch_size)\n",
        "val_generator = generator(val_path, val_doc, batch_size)"
      ],
      "execution_count": 15,
      "outputs": []
    },
    {
      "cell_type": "code",
      "metadata": {
        "colab": {
          "base_uri": "https://localhost:8080/"
        },
        "id": "ANoBgC83sJ3E",
        "outputId": "065e694a-73b1-45b0-97ce-55de6230e295"
      },
      "source": [
        "model_name = 'model_init' + '_' + str(curr_dt_time).replace(' ','').replace(':','_') + '/'\n",
        "    \n",
        "if not os.path.exists(model_name):\n",
        "    os.mkdir(model_name)\n",
        "        \n",
        "filepath = model_name + 'model-{epoch:05d}-{loss:.5f}-{categorical_accuracy:.5f}-{val_loss:.5f}-{val_categorical_accuracy:.5f}.h5'\n",
        "\n",
        "checkpoint = ModelCheckpoint(filepath, monitor='val_loss', verbose=1, save_best_only=False, save_weights_only=False, mode='auto', period=1)\n",
        "\n",
        "LR = ReduceLROnPlateau(monitor='val_loss', factor=0.5, patience=2, cooldown=1, verbose=1) # write the REducelronplateau code here\n",
        "callbacks_list = [checkpoint, LR]"
      ],
      "execution_count": 16,
      "outputs": [
        {
          "output_type": "stream",
          "name": "stdout",
          "text": [
            "WARNING:tensorflow:`period` argument is deprecated. Please use `save_freq` to specify the frequency in number of batches seen.\n"
          ]
        }
      ]
    },
    {
      "cell_type": "markdown",
      "metadata": {
        "id": "VdEUwk2KsJ3E"
      },
      "source": [
        "The `steps_per_epoch` and `validation_steps` are used by `fit_generator` to decide the number of next() calls it need to make."
      ]
    },
    {
      "cell_type": "code",
      "metadata": {
        "id": "AOLNE3gKsJ3E"
      },
      "source": [
        "if (num_train_sequences%batch_size) == 0:\n",
        "    steps_per_epoch = int(num_train_sequences/batch_size)\n",
        "else:\n",
        "    steps_per_epoch = (num_train_sequences//batch_size) + 1\n",
        "\n",
        "if (num_val_sequences%batch_size) == 0:\n",
        "    validation_steps = int(num_val_sequences/batch_size)\n",
        "else:\n",
        "    validation_steps = (num_val_sequences//batch_size) + 1"
      ],
      "execution_count": 17,
      "outputs": []
    },
    {
      "cell_type": "markdown",
      "metadata": {
        "id": "bauVZn8TsJ3F"
      },
      "source": [
        "Let us now fit the model. This will start training the model and with the help of the checkpoints, you'll be able to save the model at the end of each epoch."
      ]
    },
    {
      "cell_type": "code",
      "metadata": {
        "colab": {
          "base_uri": "https://localhost:8080/",
          "height": 446
        },
        "id": "BmwRMjaosJ3F",
        "outputId": "b671a6a6-b514-4431-ce61-ac9873065693"
      },
      "source": [
        "model_a.fit_generator(train_generator, steps_per_epoch=steps_per_epoch, epochs=num_epochs, verbose=1, \n",
        "                    callbacks=callbacks_list, validation_data=val_generator, \n",
        "                    validation_steps=validation_steps, class_weight=None, workers=1, initial_epoch=0)"
      ],
      "execution_count": null,
      "outputs": [
        {
          "name": "stderr",
          "output_type": "stream",
          "text": [
            "/usr/local/lib/python3.7/dist-packages/keras/engine/training.py:1972: UserWarning: `Model.fit_generator` is deprecated and will be removed in a future version. Please use `Model.fit`, which supports generators.\n",
            "  warnings.warn('`Model.fit_generator` is deprecated and '\n"
          ]
        },
        {
          "name": "stdout",
          "output_type": "stream",
          "text": [
            "Source path =  /content/drive/MyDrive/Project_data/train ; batch size = 10\n",
            "Epoch 1/10\n",
            " 9/67 [===>..........................] - ETA: 2:46:08 - loss: 9.6311 - categorical_accuracy: 0.2333 "
          ]
        },
        {
          "ename": "KeyboardInterrupt",
          "evalue": "ignored",
          "output_type": "error",
          "traceback": [
            "\u001b[0;31m---------------------------------------------------------------------------\u001b[0m",
            "\u001b[0;31mKeyboardInterrupt\u001b[0m                         Traceback (most recent call last)",
            "\u001b[0;32m<ipython-input-18-6585558018ac>\u001b[0m in \u001b[0;36m<module>\u001b[0;34m()\u001b[0m\n\u001b[1;32m      1\u001b[0m model_a.fit_generator(train_generator, steps_per_epoch=steps_per_epoch, epochs=num_epochs, verbose=1, \n\u001b[1;32m      2\u001b[0m                     \u001b[0mcallbacks\u001b[0m\u001b[0;34m=\u001b[0m\u001b[0mcallbacks_list\u001b[0m\u001b[0;34m,\u001b[0m \u001b[0mvalidation_data\u001b[0m\u001b[0;34m=\u001b[0m\u001b[0mval_generator\u001b[0m\u001b[0;34m,\u001b[0m\u001b[0;34m\u001b[0m\u001b[0;34m\u001b[0m\u001b[0m\n\u001b[0;32m----> 3\u001b[0;31m                     validation_steps=validation_steps, class_weight=None, workers=1, initial_epoch=0)\n\u001b[0m",
            "\u001b[0;32m/usr/local/lib/python3.7/dist-packages/keras/engine/training.py\u001b[0m in \u001b[0;36mfit_generator\u001b[0;34m(self, generator, steps_per_epoch, epochs, verbose, callbacks, validation_data, validation_steps, validation_freq, class_weight, max_queue_size, workers, use_multiprocessing, shuffle, initial_epoch)\u001b[0m\n\u001b[1;32m   1987\u001b[0m         \u001b[0muse_multiprocessing\u001b[0m\u001b[0;34m=\u001b[0m\u001b[0muse_multiprocessing\u001b[0m\u001b[0;34m,\u001b[0m\u001b[0;34m\u001b[0m\u001b[0;34m\u001b[0m\u001b[0m\n\u001b[1;32m   1988\u001b[0m         \u001b[0mshuffle\u001b[0m\u001b[0;34m=\u001b[0m\u001b[0mshuffle\u001b[0m\u001b[0;34m,\u001b[0m\u001b[0;34m\u001b[0m\u001b[0;34m\u001b[0m\u001b[0m\n\u001b[0;32m-> 1989\u001b[0;31m         initial_epoch=initial_epoch)\n\u001b[0m\u001b[1;32m   1990\u001b[0m \u001b[0;34m\u001b[0m\u001b[0m\n\u001b[1;32m   1991\u001b[0m   \u001b[0;34m@\u001b[0m\u001b[0mdoc_controls\u001b[0m\u001b[0;34m.\u001b[0m\u001b[0mdo_not_generate_docs\u001b[0m\u001b[0;34m\u001b[0m\u001b[0;34m\u001b[0m\u001b[0m\n",
            "\u001b[0;32m/usr/local/lib/python3.7/dist-packages/keras/engine/training.py\u001b[0m in \u001b[0;36mfit\u001b[0;34m(self, x, y, batch_size, epochs, verbose, callbacks, validation_split, validation_data, shuffle, class_weight, sample_weight, initial_epoch, steps_per_epoch, validation_steps, validation_batch_size, validation_freq, max_queue_size, workers, use_multiprocessing)\u001b[0m\n\u001b[1;32m   1182\u001b[0m                 _r=1):\n\u001b[1;32m   1183\u001b[0m               \u001b[0mcallbacks\u001b[0m\u001b[0;34m.\u001b[0m\u001b[0mon_train_batch_begin\u001b[0m\u001b[0;34m(\u001b[0m\u001b[0mstep\u001b[0m\u001b[0;34m)\u001b[0m\u001b[0;34m\u001b[0m\u001b[0;34m\u001b[0m\u001b[0m\n\u001b[0;32m-> 1184\u001b[0;31m               \u001b[0mtmp_logs\u001b[0m \u001b[0;34m=\u001b[0m \u001b[0mself\u001b[0m\u001b[0;34m.\u001b[0m\u001b[0mtrain_function\u001b[0m\u001b[0;34m(\u001b[0m\u001b[0miterator\u001b[0m\u001b[0;34m)\u001b[0m\u001b[0;34m\u001b[0m\u001b[0;34m\u001b[0m\u001b[0m\n\u001b[0m\u001b[1;32m   1185\u001b[0m               \u001b[0;32mif\u001b[0m \u001b[0mdata_handler\u001b[0m\u001b[0;34m.\u001b[0m\u001b[0mshould_sync\u001b[0m\u001b[0;34m:\u001b[0m\u001b[0;34m\u001b[0m\u001b[0;34m\u001b[0m\u001b[0m\n\u001b[1;32m   1186\u001b[0m                 \u001b[0mcontext\u001b[0m\u001b[0;34m.\u001b[0m\u001b[0masync_wait\u001b[0m\u001b[0;34m(\u001b[0m\u001b[0;34m)\u001b[0m\u001b[0;34m\u001b[0m\u001b[0;34m\u001b[0m\u001b[0m\n",
            "\u001b[0;32m/usr/local/lib/python3.7/dist-packages/tensorflow/python/eager/def_function.py\u001b[0m in \u001b[0;36m__call__\u001b[0;34m(self, *args, **kwds)\u001b[0m\n\u001b[1;32m    883\u001b[0m \u001b[0;34m\u001b[0m\u001b[0m\n\u001b[1;32m    884\u001b[0m       \u001b[0;32mwith\u001b[0m \u001b[0mOptionalXlaContext\u001b[0m\u001b[0;34m(\u001b[0m\u001b[0mself\u001b[0m\u001b[0;34m.\u001b[0m\u001b[0m_jit_compile\u001b[0m\u001b[0;34m)\u001b[0m\u001b[0;34m:\u001b[0m\u001b[0;34m\u001b[0m\u001b[0;34m\u001b[0m\u001b[0m\n\u001b[0;32m--> 885\u001b[0;31m         \u001b[0mresult\u001b[0m \u001b[0;34m=\u001b[0m \u001b[0mself\u001b[0m\u001b[0;34m.\u001b[0m\u001b[0m_call\u001b[0m\u001b[0;34m(\u001b[0m\u001b[0;34m*\u001b[0m\u001b[0margs\u001b[0m\u001b[0;34m,\u001b[0m \u001b[0;34m**\u001b[0m\u001b[0mkwds\u001b[0m\u001b[0;34m)\u001b[0m\u001b[0;34m\u001b[0m\u001b[0;34m\u001b[0m\u001b[0m\n\u001b[0m\u001b[1;32m    886\u001b[0m \u001b[0;34m\u001b[0m\u001b[0m\n\u001b[1;32m    887\u001b[0m       \u001b[0mnew_tracing_count\u001b[0m \u001b[0;34m=\u001b[0m \u001b[0mself\u001b[0m\u001b[0;34m.\u001b[0m\u001b[0mexperimental_get_tracing_count\u001b[0m\u001b[0;34m(\u001b[0m\u001b[0;34m)\u001b[0m\u001b[0;34m\u001b[0m\u001b[0;34m\u001b[0m\u001b[0m\n",
            "\u001b[0;32m/usr/local/lib/python3.7/dist-packages/tensorflow/python/eager/def_function.py\u001b[0m in \u001b[0;36m_call\u001b[0;34m(self, *args, **kwds)\u001b[0m\n\u001b[1;32m    915\u001b[0m       \u001b[0;31m# In this case we have created variables on the first call, so we run the\u001b[0m\u001b[0;34m\u001b[0m\u001b[0;34m\u001b[0m\u001b[0;34m\u001b[0m\u001b[0m\n\u001b[1;32m    916\u001b[0m       \u001b[0;31m# defunned version which is guaranteed to never create variables.\u001b[0m\u001b[0;34m\u001b[0m\u001b[0;34m\u001b[0m\u001b[0;34m\u001b[0m\u001b[0m\n\u001b[0;32m--> 917\u001b[0;31m       \u001b[0;32mreturn\u001b[0m \u001b[0mself\u001b[0m\u001b[0;34m.\u001b[0m\u001b[0m_stateless_fn\u001b[0m\u001b[0;34m(\u001b[0m\u001b[0;34m*\u001b[0m\u001b[0margs\u001b[0m\u001b[0;34m,\u001b[0m \u001b[0;34m**\u001b[0m\u001b[0mkwds\u001b[0m\u001b[0;34m)\u001b[0m  \u001b[0;31m# pylint: disable=not-callable\u001b[0m\u001b[0;34m\u001b[0m\u001b[0;34m\u001b[0m\u001b[0m\n\u001b[0m\u001b[1;32m    918\u001b[0m     \u001b[0;32melif\u001b[0m \u001b[0mself\u001b[0m\u001b[0;34m.\u001b[0m\u001b[0m_stateful_fn\u001b[0m \u001b[0;32mis\u001b[0m \u001b[0;32mnot\u001b[0m \u001b[0;32mNone\u001b[0m\u001b[0;34m:\u001b[0m\u001b[0;34m\u001b[0m\u001b[0;34m\u001b[0m\u001b[0m\n\u001b[1;32m    919\u001b[0m       \u001b[0;31m# Release the lock early so that multiple threads can perform the call\u001b[0m\u001b[0;34m\u001b[0m\u001b[0;34m\u001b[0m\u001b[0;34m\u001b[0m\u001b[0m\n",
            "\u001b[0;32m/usr/local/lib/python3.7/dist-packages/tensorflow/python/eager/function.py\u001b[0m in \u001b[0;36m__call__\u001b[0;34m(self, *args, **kwargs)\u001b[0m\n\u001b[1;32m   3038\u001b[0m        filtered_flat_args) = self._maybe_define_function(args, kwargs)\n\u001b[1;32m   3039\u001b[0m     return graph_function._call_flat(\n\u001b[0;32m-> 3040\u001b[0;31m         filtered_flat_args, captured_inputs=graph_function.captured_inputs)  # pylint: disable=protected-access\n\u001b[0m\u001b[1;32m   3041\u001b[0m \u001b[0;34m\u001b[0m\u001b[0m\n\u001b[1;32m   3042\u001b[0m   \u001b[0;34m@\u001b[0m\u001b[0mproperty\u001b[0m\u001b[0;34m\u001b[0m\u001b[0;34m\u001b[0m\u001b[0m\n",
            "\u001b[0;32m/usr/local/lib/python3.7/dist-packages/tensorflow/python/eager/function.py\u001b[0m in \u001b[0;36m_call_flat\u001b[0;34m(self, args, captured_inputs, cancellation_manager)\u001b[0m\n\u001b[1;32m   1962\u001b[0m       \u001b[0;31m# No tape is watching; skip to running the function.\u001b[0m\u001b[0;34m\u001b[0m\u001b[0;34m\u001b[0m\u001b[0;34m\u001b[0m\u001b[0m\n\u001b[1;32m   1963\u001b[0m       return self._build_call_outputs(self._inference_function.call(\n\u001b[0;32m-> 1964\u001b[0;31m           ctx, args, cancellation_manager=cancellation_manager))\n\u001b[0m\u001b[1;32m   1965\u001b[0m     forward_backward = self._select_forward_and_backward_functions(\n\u001b[1;32m   1966\u001b[0m         \u001b[0margs\u001b[0m\u001b[0;34m,\u001b[0m\u001b[0;34m\u001b[0m\u001b[0;34m\u001b[0m\u001b[0m\n",
            "\u001b[0;32m/usr/local/lib/python3.7/dist-packages/tensorflow/python/eager/function.py\u001b[0m in \u001b[0;36mcall\u001b[0;34m(self, ctx, args, cancellation_manager)\u001b[0m\n\u001b[1;32m    594\u001b[0m               \u001b[0minputs\u001b[0m\u001b[0;34m=\u001b[0m\u001b[0margs\u001b[0m\u001b[0;34m,\u001b[0m\u001b[0;34m\u001b[0m\u001b[0;34m\u001b[0m\u001b[0m\n\u001b[1;32m    595\u001b[0m               \u001b[0mattrs\u001b[0m\u001b[0;34m=\u001b[0m\u001b[0mattrs\u001b[0m\u001b[0;34m,\u001b[0m\u001b[0;34m\u001b[0m\u001b[0;34m\u001b[0m\u001b[0m\n\u001b[0;32m--> 596\u001b[0;31m               ctx=ctx)\n\u001b[0m\u001b[1;32m    597\u001b[0m         \u001b[0;32melse\u001b[0m\u001b[0;34m:\u001b[0m\u001b[0;34m\u001b[0m\u001b[0;34m\u001b[0m\u001b[0m\n\u001b[1;32m    598\u001b[0m           outputs = execute.execute_with_cancellation(\n",
            "\u001b[0;32m/usr/local/lib/python3.7/dist-packages/tensorflow/python/eager/execute.py\u001b[0m in \u001b[0;36mquick_execute\u001b[0;34m(op_name, num_outputs, inputs, attrs, ctx, name)\u001b[0m\n\u001b[1;32m     58\u001b[0m     \u001b[0mctx\u001b[0m\u001b[0;34m.\u001b[0m\u001b[0mensure_initialized\u001b[0m\u001b[0;34m(\u001b[0m\u001b[0;34m)\u001b[0m\u001b[0;34m\u001b[0m\u001b[0;34m\u001b[0m\u001b[0m\n\u001b[1;32m     59\u001b[0m     tensors = pywrap_tfe.TFE_Py_Execute(ctx._handle, device_name, op_name,\n\u001b[0;32m---> 60\u001b[0;31m                                         inputs, attrs, num_outputs)\n\u001b[0m\u001b[1;32m     61\u001b[0m   \u001b[0;32mexcept\u001b[0m \u001b[0mcore\u001b[0m\u001b[0;34m.\u001b[0m\u001b[0m_NotOkStatusException\u001b[0m \u001b[0;32mas\u001b[0m \u001b[0me\u001b[0m\u001b[0;34m:\u001b[0m\u001b[0;34m\u001b[0m\u001b[0;34m\u001b[0m\u001b[0m\n\u001b[1;32m     62\u001b[0m     \u001b[0;32mif\u001b[0m \u001b[0mname\u001b[0m \u001b[0;32mis\u001b[0m \u001b[0;32mnot\u001b[0m \u001b[0;32mNone\u001b[0m\u001b[0;34m:\u001b[0m\u001b[0;34m\u001b[0m\u001b[0;34m\u001b[0m\u001b[0m\n",
            "\u001b[0;31mKeyboardInterrupt\u001b[0m: "
          ]
        }
      ]
    },
    {
      "cell_type": "code",
      "metadata": {
        "id": "e3D9syDysJ3F"
      },
      "source": [
        "#Setting Batch size to 20\n",
        "batch_size=20\n",
        "train_generator = generator(train_path, train_doc, batch_size)\n",
        "val_generator = generator(val_path, val_doc, batch_size)"
      ],
      "execution_count": 18,
      "outputs": []
    },
    {
      "cell_type": "code",
      "metadata": {
        "colab": {
          "base_uri": "https://localhost:8080/"
        },
        "id": "GiYPrDhBgPcj",
        "outputId": "591d7994-0d38-4c6e-8583-568f32648129"
      },
      "source": [
        "model_name = 'model_init' + '_' + str(curr_dt_time).replace(' ','').replace(':','_') + '/'\n",
        "    \n",
        "if not os.path.exists(model_name):\n",
        "    os.mkdir(model_name)\n",
        "        \n",
        "filepath = model_name + 'model-{epoch:05d}-{loss:.5f}-{categorical_accuracy:.5f}-{val_loss:.5f}-{val_categorical_accuracy:.5f}.h5'\n",
        "\n",
        "checkpoint = ModelCheckpoint(filepath, monitor='val_loss', verbose=1, save_best_only=False, save_weights_only=False, mode='auto', period=1)\n",
        "\n",
        "LR = ReduceLROnPlateau(monitor='val_loss', factor=0.5, patience=2, cooldown=1, verbose=1) # write the REducelronplateau code here\n",
        "callbacks_list = [checkpoint, LR]"
      ],
      "execution_count": 19,
      "outputs": [
        {
          "output_type": "stream",
          "name": "stdout",
          "text": [
            "WARNING:tensorflow:`period` argument is deprecated. Please use `save_freq` to specify the frequency in number of batches seen.\n"
          ]
        }
      ]
    },
    {
      "cell_type": "markdown",
      "metadata": {
        "id": "Gha9cqRrgDK1"
      },
      "source": [
        ""
      ]
    },
    {
      "cell_type": "code",
      "metadata": {
        "id": "w3_J9wmegR7T"
      },
      "source": [
        "if (num_train_sequences%batch_size) == 0:\n",
        "    steps_per_epoch = int(num_train_sequences/batch_size)\n",
        "else:\n",
        "    steps_per_epoch = (num_train_sequences//batch_size) + 1\n",
        "\n",
        "if (num_val_sequences%batch_size) == 0:\n",
        "    validation_steps = int(num_val_sequences/batch_size)\n",
        "else:\n",
        "    validation_steps = (num_val_sequences//batch_size) + 1"
      ],
      "execution_count": 20,
      "outputs": []
    },
    {
      "cell_type": "code",
      "metadata": {
        "colab": {
          "base_uri": "https://localhost:8080/"
        },
        "id": "xkUQaWgjgec2",
        "outputId": "9a6a9b1b-8541-476c-c919-5c8e3b0ae9d8"
      },
      "source": [
        "batch_size"
      ],
      "execution_count": 21,
      "outputs": [
        {
          "output_type": "execute_result",
          "data": {
            "text/plain": [
              "20"
            ]
          },
          "metadata": {},
          "execution_count": 21
        }
      ]
    },
    {
      "cell_type": "code",
      "metadata": {
        "colab": {
          "base_uri": "https://localhost:8080/"
        },
        "id": "5z_0wP28H1Cd",
        "outputId": "6dd2ca08-b568-4132-8c6c-98ad344b8550"
      },
      "source": [
        "\n",
        "model_a = Sequential()\n",
        "\n",
        "model_a.add(Conv3D(8, #number of filters \n",
        "                 kernel_size=(3,3,3), \n",
        "                 input_shape=(30, 120, 120, 3),\n",
        "                 padding='same'))\n",
        "model_a.add(BatchNormalization())\n",
        "model_a.add(Activation('relu'))\n",
        "\n",
        "model_a.add(MaxPooling3D(pool_size=(2,2,2)))\n",
        "\n",
        "model_a.add(Conv3D(16, #Number of filters, \n",
        "                 kernel_size=(3,3,3), \n",
        "                 padding='same'))\n",
        "model_a.add(BatchNormalization())\n",
        "model_a.add(Activation('relu'))\n",
        "\n",
        "model_a.add(MaxPooling3D(pool_size=(2,2,2)))\n",
        "\n",
        "model_a.add(Conv3D(32, #Number of filters \n",
        "                 kernel_size=(1,3,3), \n",
        "                 padding='same'))\n",
        "model_a.add(BatchNormalization())\n",
        "model_a.add(Activation('relu'))\n",
        "\n",
        "model_a.add(MaxPooling3D(pool_size=(2,2,2)))\n",
        "\n",
        "model_a.add(Conv3D(64, #Number pf filters \n",
        "                 kernel_size=(1,3,3), \n",
        "                 padding='same'))\n",
        "model_a.add(BatchNormalization())\n",
        "model_a.add(Activation('relu'))\n",
        "\n",
        "model_a.add(MaxPooling3D(pool_size=(2,2,2)))\n",
        "\n",
        "#Flatten Layers\n",
        "model_a.add(Flatten())\n",
        "\n",
        "model_a.add(Dense(1000, activation='relu'))\n",
        "#model_a.add(keras.layers.Dropout(0.5))\n",
        "\n",
        "model_a.add(Dense(500, activation='relu'))\n",
        "#model_a.add(Dropout(0.5))\n",
        "\n",
        "#softmax layer\n",
        "model_a.add(Dense(5, activation='softmax'))\n",
        "\n",
        "#optimiser = #write your optimizer\n",
        "model_a.compile(optimizer='adam', loss='categorical_crossentropy', metrics=['categorical_accuracy'])\n",
        "model_a.summary()\n",
        "\n"
      ],
      "execution_count": 22,
      "outputs": [
        {
          "output_type": "stream",
          "name": "stdout",
          "text": [
            "Model: \"sequential_1\"\n",
            "_________________________________________________________________\n",
            "Layer (type)                 Output Shape              Param #   \n",
            "=================================================================\n",
            "conv3d_4 (Conv3D)            (None, 30, 120, 120, 8)   656       \n",
            "_________________________________________________________________\n",
            "batch_normalization_4 (Batch (None, 30, 120, 120, 8)   32        \n",
            "_________________________________________________________________\n",
            "activation_4 (Activation)    (None, 30, 120, 120, 8)   0         \n",
            "_________________________________________________________________\n",
            "max_pooling3d_4 (MaxPooling3 (None, 15, 60, 60, 8)     0         \n",
            "_________________________________________________________________\n",
            "conv3d_5 (Conv3D)            (None, 15, 60, 60, 16)    3472      \n",
            "_________________________________________________________________\n",
            "batch_normalization_5 (Batch (None, 15, 60, 60, 16)    64        \n",
            "_________________________________________________________________\n",
            "activation_5 (Activation)    (None, 15, 60, 60, 16)    0         \n",
            "_________________________________________________________________\n",
            "max_pooling3d_5 (MaxPooling3 (None, 7, 30, 30, 16)     0         \n",
            "_________________________________________________________________\n",
            "conv3d_6 (Conv3D)            (None, 7, 30, 30, 32)     4640      \n",
            "_________________________________________________________________\n",
            "batch_normalization_6 (Batch (None, 7, 30, 30, 32)     128       \n",
            "_________________________________________________________________\n",
            "activation_6 (Activation)    (None, 7, 30, 30, 32)     0         \n",
            "_________________________________________________________________\n",
            "max_pooling3d_6 (MaxPooling3 (None, 3, 15, 15, 32)     0         \n",
            "_________________________________________________________________\n",
            "conv3d_7 (Conv3D)            (None, 3, 15, 15, 64)     18496     \n",
            "_________________________________________________________________\n",
            "batch_normalization_7 (Batch (None, 3, 15, 15, 64)     256       \n",
            "_________________________________________________________________\n",
            "activation_7 (Activation)    (None, 3, 15, 15, 64)     0         \n",
            "_________________________________________________________________\n",
            "max_pooling3d_7 (MaxPooling3 (None, 1, 7, 7, 64)       0         \n",
            "_________________________________________________________________\n",
            "flatten_1 (Flatten)          (None, 3136)              0         \n",
            "_________________________________________________________________\n",
            "dense_3 (Dense)              (None, 1000)              3137000   \n",
            "_________________________________________________________________\n",
            "dense_4 (Dense)              (None, 500)               500500    \n",
            "_________________________________________________________________\n",
            "dense_5 (Dense)              (None, 5)                 2505      \n",
            "=================================================================\n",
            "Total params: 3,667,749\n",
            "Trainable params: 3,667,509\n",
            "Non-trainable params: 240\n",
            "_________________________________________________________________\n"
          ]
        }
      ]
    },
    {
      "cell_type": "markdown",
      "metadata": {
        "id": "Gld3HPhGf684"
      },
      "source": [
        ""
      ]
    },
    {
      "cell_type": "code",
      "metadata": {
        "colab": {
          "base_uri": "https://localhost:8080/"
        },
        "id": "giUzTIwlgXtt",
        "outputId": "b8ac8d3e-3df0-4f35-e55b-c83722ca27dc"
      },
      "source": [
        "model_a.fit_generator(train_generator, steps_per_epoch=steps_per_epoch, epochs=num_epochs, verbose=1, \n",
        "                    callbacks=callbacks_list, validation_data=val_generator, \n",
        "                    validation_steps=validation_steps, class_weight=None, workers=1, initial_epoch=0)"
      ],
      "execution_count": null,
      "outputs": [
        {
          "name": "stderr",
          "output_type": "stream",
          "text": [
            "/usr/local/lib/python3.7/dist-packages/keras/engine/training.py:1972: UserWarning: `Model.fit_generator` is deprecated and will be removed in a future version. Please use `Model.fit`, which supports generators.\n",
            "  warnings.warn('`Model.fit_generator` is deprecated and '\n"
          ]
        },
        {
          "name": "stdout",
          "output_type": "stream",
          "text": [
            "Source path =  /content/drive/MyDrive/Project_data/train ; batch size = 20\n",
            "Epoch 1/10\n",
            "32/34 [===========================>..] - ETA: 11:05 - loss: 3.2570 - categorical_accuracy: 0.3156Batch:  34 Index: 20\n",
            "34/34 [==============================] - ETA: 0s - loss: 3.1858 - categorical_accuracy: 0.3198  Source path =  /content/drive/MyDrive/Project_data/val ; batch size = 20\n",
            "34/34 [==============================] - 12233s 370s/step - loss: 3.1858 - categorical_accuracy: 0.3198 - val_loss: 1.6022 - val_categorical_accuracy: 0.3400\n",
            "\n",
            "Epoch 00001: saving model to model_init_2021-10-1911_34_23.204505/model-00001-3.18584-0.31976-1.60223-0.34000.h5\n",
            "Epoch 2/10\n",
            "34/34 [==============================] - 153s 5s/step - loss: 1.6818 - categorical_accuracy: 0.3137 - val_loss: 1.2726 - val_categorical_accuracy: 0.4500\n",
            "\n",
            "Epoch 00002: saving model to model_init_2021-10-1911_34_23.204505/model-00002-1.68182-0.31373-1.27260-0.45000.h5\n",
            "Epoch 3/10\n",
            "34/34 [==============================] - 149s 4s/step - loss: 1.4843 - categorical_accuracy: 0.3922 - val_loss: 1.2886 - val_categorical_accuracy: 0.4000\n",
            "\n",
            "Epoch 00003: saving model to model_init_2021-10-1911_34_23.204505/model-00003-1.48431-0.39216-1.28861-0.40000.h5\n",
            "Epoch 4/10\n",
            "34/34 [==============================] - 163s 5s/step - loss: 1.4832 - categorical_accuracy: 0.3922 - val_loss: 1.6030 - val_categorical_accuracy: 0.3200\n",
            "\n",
            "Epoch 00004: saving model to model_init_2021-10-1911_34_23.204505/model-00004-1.48321-0.39216-1.60298-0.32000.h5\n",
            "\n",
            "Epoch 00004: ReduceLROnPlateau reducing learning rate to 0.0005000000237487257.\n",
            "Epoch 5/10\n",
            "34/34 [==============================] - 150s 4s/step - loss: 1.4235 - categorical_accuracy: 0.3333 - val_loss: 1.5278 - val_categorical_accuracy: 0.4000\n",
            "\n",
            "Epoch 00005: saving model to model_init_2021-10-1911_34_23.204505/model-00005-1.42351-0.33333-1.52782-0.40000.h5\n",
            "Epoch 6/10\n",
            "34/34 [==============================] - 173s 5s/step - loss: 1.4113 - categorical_accuracy: 0.3922 - val_loss: 1.6153 - val_categorical_accuracy: 0.3200\n",
            "\n",
            "Epoch 00006: saving model to model_init_2021-10-1911_34_23.204505/model-00006-1.41129-0.39216-1.61529-0.32000.h5\n",
            "\n",
            "Epoch 00006: ReduceLROnPlateau reducing learning rate to 0.0002500000118743628.\n",
            "Epoch 7/10\n",
            "34/34 [==============================] - 154s 5s/step - loss: 1.1451 - categorical_accuracy: 0.5196 - val_loss: 1.8019 - val_categorical_accuracy: 0.3000\n",
            "\n",
            "Epoch 00007: saving model to model_init_2021-10-1911_34_23.204505/model-00007-1.14513-0.51961-1.80192-0.30000.h5\n",
            "Epoch 8/10\n",
            "34/34 [==============================] - 168s 5s/step - loss: 1.1619 - categorical_accuracy: 0.5000 - val_loss: 1.4123 - val_categorical_accuracy: 0.3500\n",
            "\n",
            "Epoch 00008: saving model to model_init_2021-10-1911_34_23.204505/model-00008-1.16186-0.50000-1.41226-0.35000.h5\n",
            "\n",
            "Epoch 00008: ReduceLROnPlateau reducing learning rate to 0.0001250000059371814.\n",
            "Epoch 9/10\n",
            "34/34 [==============================] - 152s 5s/step - loss: 1.0647 - categorical_accuracy: 0.5392 - val_loss: 1.4529 - val_categorical_accuracy: 0.3400\n",
            "\n",
            "Epoch 00009: saving model to model_init_2021-10-1911_34_23.204505/model-00009-1.06474-0.53922-1.45286-0.34000.h5\n",
            "Epoch 10/10\n",
            "34/34 [==============================] - 156s 5s/step - loss: 1.0531 - categorical_accuracy: 0.5098 - val_loss: 1.4588 - val_categorical_accuracy: 0.4100\n",
            "\n",
            "Epoch 00010: saving model to model_init_2021-10-1911_34_23.204505/model-00010-1.05314-0.50980-1.45879-0.41000.h5\n",
            "\n",
            "Epoch 00010: ReduceLROnPlateau reducing learning rate to 6.25000029685907e-05.\n"
          ]
        },
        {
          "data": {
            "text/plain": [
              "<keras.callbacks.History at 0x7fda4e95a210>"
            ]
          },
          "execution_count": 31,
          "metadata": {},
          "output_type": "execute_result"
        }
      ]
    },
    {
      "cell_type": "markdown",
      "metadata": {
        "id": "nFo5g1BRLUmM"
      },
      "source": [
        ""
      ]
    },
    {
      "cell_type": "markdown",
      "metadata": {
        "id": "yY3h0xjJLW5b"
      },
      "source": [
        "# Setting different set of values for X Y Z and Batch Size"
      ]
    },
    {
      "cell_type": "code",
      "metadata": {
        "id": "YeQnXbBLLfzc"
      },
      "source": [
        "classes = 5 #left swipe, right swipe, thumbs up, thumbs down, stop\n",
        "channel = 3\n",
        "x = 30 # number of frames\n",
        "y = 120 # image width\n",
        "z = 120 # image height\n",
        "\n",
        "def generator_ex(source_path, folder_list, batch_size):\n",
        "    print( 'Source path = ', source_path, '; batch size =', batch_size)\n",
        "    img_idx = [x for x in range(0,x)] #create a list of image numbers you want to use for a particular video\n",
        "    while True:\n",
        "        t = np.random.permutation(folder_list)\n",
        "        num_batches = len(folder_list)//batch_size # calculate the number of batches\n",
        "        for batch in range(num_batches): # we iterate over the number of batches\n",
        "            batch_data = np.zeros((batch_size,x,y,z,channel)) # x is the number of images you use for each video, (y,z) is the final size of the input images and 3 is the number of channels RGB\n",
        "            batch_labels = np.zeros((batch_size,classes)) # batch_labels is the one hot representation of the output\n",
        "            for folder in range(batch_size): # iterate over the batch_size\n",
        "                imgs = os.listdir(source_path+'/'+ t[folder + (batch*batch_size)].split(';')[0]) # read all the images in the folder\n",
        "                for idx,item in enumerate(img_idx): #  Iterate iver the frames/images of a folder to read them in\n",
        "                    image = imread(source_path+'/'+ t[folder + (batch*batch_size)].strip().split(';')[0]+'/'+imgs[item]).astype(np.float32)\n",
        "                    \n",
        "                    #crop the images and resize them. Note that the images are of 2 different shape \n",
        "                    #and the conv3D will throw error if the inputs in a batch have different shapes\n",
        "                    \n",
        "                    temp = cv2.resize(image,(y,z))\n",
        "                    #Converting to gray scale\n",
        "                    temp = temp.mean(axis=-1,keepdims=1) \n",
        "                    temp = temp/127.5-1 #Normalize data\n",
        "                    batch_data[folder,idx] = temp #normalise and feed in the image\n",
        "                    \n",
        "                batch_labels[folder, int(t[folder + (batch*batch_size)].strip().split(';')[2])] = 1\n",
        "                \n",
        "            yield batch_data, batch_labels #you yield the batch_data and the batch_labels, remember what does yield do\n",
        "\n",
        "        \n",
        "        # write the code for the remaining data points which are left after full batches\n",
        "        if (len(folder_list) != batch_size*num_batches):\n",
        "            print(\"Batch: \",num_batches+1,\"Index:\", batch_size)\n",
        "            batch_size = len(folder_list) - (batch_size*num_batches)\n",
        "            batch_data = np.zeros((batch_size,x,y,z,channel)) # x is the number of images you use for each video, (y,z) is the final size of the input images and 3 is the number of channels RGB\n",
        "            batch_labels = np.zeros((batch_size,classes)) # batch_labels is the one hot representation of the output\n",
        "            for folder in range(batch_size): # iterate over the batch_size\n",
        "                imgs = os.listdir(source_path+'/'+ t[folder + (batch*batch_size)].split(';')[0]) # read all the images in the folder\n",
        "                for idx,item in enumerate(img_idx): #  Iterate iver the frames/images of a folder to read them in\n",
        "                    image = imread(source_path+'/'+ t[folder + (batch*batch_size)].strip().split(';')[0]+'/'+imgs[item]).astype(np.float32)\n",
        "                    \n",
        "                    #crop the images and resize them. Note that the images are of 2 different shape \n",
        "                    #and the conv3D will throw error if the inputs in a batch have different shapes\n",
        "                    temp = cv2.resize(image,(y,z))\n",
        "                    #Converting to gray scale\n",
        "                    temp = temp.mean(axis=-1,keepdims=1) \n",
        "                    temp = temp/127.5-1 #Normalize data\n",
        "                    \n",
        "                    batch_data[folder,idx] = temp\n",
        "                   \n",
        "                batch_labels[folder, int(t[folder + (batch*batch_size)].strip().split(';')[2])] = 1\n",
        "            yield batch_data, batch_labels\n"
      ],
      "execution_count": 24,
      "outputs": []
    },
    {
      "cell_type": "code",
      "metadata": {
        "colab": {
          "base_uri": "https://localhost:8080/"
        },
        "id": "GCKLsnq8Lk2_",
        "outputId": "b976e516-c687-45f3-a856-571d958739e0"
      },
      "source": [
        "curr_dt_time = datetime.datetime.now()\n",
        "train_path = '/content/drive/MyDrive/Project_data/train'\n",
        "val_path = '/content/drive/MyDrive/Project_data/val'\n",
        "num_train_sequences = len(train_doc)\n",
        "print('# training sequences =', num_train_sequences)\n",
        "num_val_sequences = len(val_doc)\n",
        "print('# validation sequences =', num_val_sequences)\n",
        "num_epochs =10\n",
        "print ('# epochs =', num_epochs)"
      ],
      "execution_count": 25,
      "outputs": [
        {
          "output_type": "stream",
          "name": "stdout",
          "text": [
            "# training sequences = 663\n",
            "# validation sequences = 100\n",
            "# epochs = 10\n"
          ]
        }
      ]
    },
    {
      "cell_type": "code",
      "metadata": {
        "id": "pp9tc8fwLcYT"
      },
      "source": [
        "from keras.layers import Dense, GRU, Flatten, TimeDistributed, Flatten, BatchNormalization, Activation, Dropout"
      ],
      "execution_count": 26,
      "outputs": []
    },
    {
      "cell_type": "code",
      "metadata": {
        "id": "wpTu5XzBLq9Y"
      },
      "source": [
        "x = 30 # number of frames\n",
        "y = 60 # image width\n",
        "z = 60 # image height"
      ],
      "execution_count": 27,
      "outputs": []
    },
    {
      "cell_type": "code",
      "metadata": {
        "colab": {
          "base_uri": "https://localhost:8080/"
        },
        "id": "_diF-pGSNHq3",
        "outputId": "8dd315a8-aea7-45fc-e028-f5ecf0af620e"
      },
      "source": [
        "# Define model b\n",
        "model_b = Sequential()\n",
        "model_b.add(Conv3D(32, kernel_size=(3, 3, 3), input_shape=(x,y,z,channel), padding='same'))\n",
        "model_b.add(Activation('relu'))\n",
        "model_b.add(Conv3D(32, kernel_size=(3, 3, 3), padding='same'))\n",
        "model_b.add(Activation('relu'))\n",
        "model_b.add(MaxPooling3D(pool_size=(3, 3, 3), padding='same'))\n",
        "model_b.add(Dropout(0.25))\n",
        "\n",
        "model_b.add(Conv3D(64, kernel_size=(3, 3, 3), padding='same'))\n",
        "model_b.add(Activation('relu'))\n",
        "model_b.add(Conv3D(64, kernel_size=(3, 3, 3), padding='same'))\n",
        "model_b.add(Activation('relu'))\n",
        "model_b.add(MaxPooling3D(pool_size=(3, 3, 3), padding='same'))\n",
        "model_b.add(Dropout(0.25))\n",
        "\n",
        "model_b.add(Flatten())\n",
        "model_b.add(Dense(512, activation='relu'))\n",
        "model_b.add(Dropout(0.5))\n",
        "model_b.add(Dense(classes, activation='softmax'))\n",
        "\n",
        "model_b.compile(optimizer='adam', loss='categorical_crossentropy', metrics=['categorical_accuracy'])\n",
        "model_b.summary()"
      ],
      "execution_count": 28,
      "outputs": [
        {
          "output_type": "stream",
          "name": "stdout",
          "text": [
            "Model: \"sequential_2\"\n",
            "_________________________________________________________________\n",
            "Layer (type)                 Output Shape              Param #   \n",
            "=================================================================\n",
            "conv3d_8 (Conv3D)            (None, 30, 60, 60, 32)    2624      \n",
            "_________________________________________________________________\n",
            "activation_8 (Activation)    (None, 30, 60, 60, 32)    0         \n",
            "_________________________________________________________________\n",
            "conv3d_9 (Conv3D)            (None, 30, 60, 60, 32)    27680     \n",
            "_________________________________________________________________\n",
            "activation_9 (Activation)    (None, 30, 60, 60, 32)    0         \n",
            "_________________________________________________________________\n",
            "max_pooling3d_8 (MaxPooling3 (None, 10, 20, 20, 32)    0         \n",
            "_________________________________________________________________\n",
            "dropout (Dropout)            (None, 10, 20, 20, 32)    0         \n",
            "_________________________________________________________________\n",
            "conv3d_10 (Conv3D)           (None, 10, 20, 20, 64)    55360     \n",
            "_________________________________________________________________\n",
            "activation_10 (Activation)   (None, 10, 20, 20, 64)    0         \n",
            "_________________________________________________________________\n",
            "conv3d_11 (Conv3D)           (None, 10, 20, 20, 64)    110656    \n",
            "_________________________________________________________________\n",
            "activation_11 (Activation)   (None, 10, 20, 20, 64)    0         \n",
            "_________________________________________________________________\n",
            "max_pooling3d_9 (MaxPooling3 (None, 4, 7, 7, 64)       0         \n",
            "_________________________________________________________________\n",
            "dropout_1 (Dropout)          (None, 4, 7, 7, 64)       0         \n",
            "_________________________________________________________________\n",
            "flatten_2 (Flatten)          (None, 12544)             0         \n",
            "_________________________________________________________________\n",
            "dense_6 (Dense)              (None, 512)               6423040   \n",
            "_________________________________________________________________\n",
            "dropout_2 (Dropout)          (None, 512)               0         \n",
            "_________________________________________________________________\n",
            "dense_7 (Dense)              (None, 5)                 2565      \n",
            "=================================================================\n",
            "Total params: 6,621,925\n",
            "Trainable params: 6,621,925\n",
            "Non-trainable params: 0\n",
            "_________________________________________________________________\n"
          ]
        }
      ]
    },
    {
      "cell_type": "code",
      "metadata": {
        "colab": {
          "base_uri": "https://localhost:8080/"
        },
        "id": "gHlue4oJLzoL",
        "outputId": "0a689fa1-5460-41ce-e3c9-eccb14b960c1"
      },
      "source": [
        "#optimiser = #write your optimizer\n",
        "model_a.compile(optimizer='adam', loss='categorical_crossentropy', metrics=['categorical_accuracy'])\n",
        "model_a.summary()\n",
        "\n"
      ],
      "execution_count": 29,
      "outputs": [
        {
          "output_type": "stream",
          "name": "stdout",
          "text": [
            "Model: \"sequential_1\"\n",
            "_________________________________________________________________\n",
            "Layer (type)                 Output Shape              Param #   \n",
            "=================================================================\n",
            "conv3d_4 (Conv3D)            (None, 30, 120, 120, 8)   656       \n",
            "_________________________________________________________________\n",
            "batch_normalization_4 (Batch (None, 30, 120, 120, 8)   32        \n",
            "_________________________________________________________________\n",
            "activation_4 (Activation)    (None, 30, 120, 120, 8)   0         \n",
            "_________________________________________________________________\n",
            "max_pooling3d_4 (MaxPooling3 (None, 15, 60, 60, 8)     0         \n",
            "_________________________________________________________________\n",
            "conv3d_5 (Conv3D)            (None, 15, 60, 60, 16)    3472      \n",
            "_________________________________________________________________\n",
            "batch_normalization_5 (Batch (None, 15, 60, 60, 16)    64        \n",
            "_________________________________________________________________\n",
            "activation_5 (Activation)    (None, 15, 60, 60, 16)    0         \n",
            "_________________________________________________________________\n",
            "max_pooling3d_5 (MaxPooling3 (None, 7, 30, 30, 16)     0         \n",
            "_________________________________________________________________\n",
            "conv3d_6 (Conv3D)            (None, 7, 30, 30, 32)     4640      \n",
            "_________________________________________________________________\n",
            "batch_normalization_6 (Batch (None, 7, 30, 30, 32)     128       \n",
            "_________________________________________________________________\n",
            "activation_6 (Activation)    (None, 7, 30, 30, 32)     0         \n",
            "_________________________________________________________________\n",
            "max_pooling3d_6 (MaxPooling3 (None, 3, 15, 15, 32)     0         \n",
            "_________________________________________________________________\n",
            "conv3d_7 (Conv3D)            (None, 3, 15, 15, 64)     18496     \n",
            "_________________________________________________________________\n",
            "batch_normalization_7 (Batch (None, 3, 15, 15, 64)     256       \n",
            "_________________________________________________________________\n",
            "activation_7 (Activation)    (None, 3, 15, 15, 64)     0         \n",
            "_________________________________________________________________\n",
            "max_pooling3d_7 (MaxPooling3 (None, 1, 7, 7, 64)       0         \n",
            "_________________________________________________________________\n",
            "flatten_1 (Flatten)          (None, 3136)              0         \n",
            "_________________________________________________________________\n",
            "dense_3 (Dense)              (None, 1000)              3137000   \n",
            "_________________________________________________________________\n",
            "dense_4 (Dense)              (None, 500)               500500    \n",
            "_________________________________________________________________\n",
            "dense_5 (Dense)              (None, 5)                 2505      \n",
            "=================================================================\n",
            "Total params: 3,667,749\n",
            "Trainable params: 3,667,509\n",
            "Non-trainable params: 240\n",
            "_________________________________________________________________\n"
          ]
        }
      ]
    },
    {
      "cell_type": "code",
      "metadata": {
        "id": "5Jp1-h2JNRrN"
      },
      "source": [
        "train_generator = generator_ex(train_path, train_doc, batch_size)\n",
        "val_generator = generator_ex(val_path, val_doc, batch_size)"
      ],
      "execution_count": 30,
      "outputs": []
    },
    {
      "cell_type": "code",
      "metadata": {
        "colab": {
          "base_uri": "https://localhost:8080/"
        },
        "id": "SQimW1DEMh5b",
        "outputId": "ed58bb6a-6a62-4f92-ba2a-24b2ceb19474"
      },
      "source": [
        "model_b.fit_generator(train_generator, steps_per_epoch=steps_per_epoch, epochs=num_epochs, verbose=1, \n",
        "                    callbacks=callbacks_list, validation_data=val_generator, \n",
        "                    validation_steps=validation_steps, class_weight=None, workers=1, initial_epoch=0)"
      ],
      "execution_count": 31,
      "outputs": [
        {
          "metadata": {
            "tags": null
          },
          "name": "stderr",
          "output_type": "stream",
          "text": [
            "/usr/local/lib/python3.7/dist-packages/keras/engine/training.py:1972: UserWarning: `Model.fit_generator` is deprecated and will be removed in a future version. Please use `Model.fit`, which supports generators.\n",
            "  warnings.warn('`Model.fit_generator` is deprecated and '\n"
          ]
        },
        {
          "output_type": "stream",
          "name": "stdout",
          "text": [
            "Source path =  /content/drive/MyDrive/Project_data/train ; batch size = 20\n",
            "Epoch 1/10\n",
            "32/34 [===========================>..] - ETA: 9:25 - loss: 1.7292 - categorical_accuracy: 0.2125 Batch:  34 Index: 20\n",
            "34/34 [==============================] - ETA: 0s - loss: 1.7250 - categorical_accuracy: 0.2112  Source path =  /content/drive/MyDrive/Project_data/val ; batch size = 20\n",
            "34/34 [==============================] - 10698s 323s/step - loss: 1.7250 - categorical_accuracy: 0.2112 - val_loss: 1.6091 - val_categorical_accuracy: 0.2400\n",
            "\n",
            "Epoch 00001: saving model to model_init_2021-10-2010_44_04.137707/model-00001-1.72501-0.21116-1.60914-0.24000.h5\n",
            "Epoch 2/10\n",
            "34/34 [==============================] - 178s 5s/step - loss: 1.6156 - categorical_accuracy: 0.2255 - val_loss: 1.6062 - val_categorical_accuracy: 0.2500\n",
            "\n",
            "Epoch 00002: saving model to model_init_2021-10-2010_44_04.137707/model-00002-1.61564-0.22549-1.60616-0.25000.h5\n",
            "Epoch 3/10\n",
            "34/34 [==============================] - 179s 5s/step - loss: 1.6113 - categorical_accuracy: 0.1569 - val_loss: 1.6052 - val_categorical_accuracy: 0.2300\n",
            "\n",
            "Epoch 00003: saving model to model_init_2021-10-2010_44_04.137707/model-00003-1.61125-0.15686-1.60522-0.23000.h5\n",
            "Epoch 4/10\n",
            "34/34 [==============================] - 191s 6s/step - loss: 1.6090 - categorical_accuracy: 0.1961 - val_loss: 1.6065 - val_categorical_accuracy: 0.2300\n",
            "\n",
            "Epoch 00004: saving model to model_init_2021-10-2010_44_04.137707/model-00004-1.60904-0.19608-1.60649-0.23000.h5\n",
            "Epoch 5/10\n",
            "34/34 [==============================] - 189s 6s/step - loss: 1.6088 - categorical_accuracy: 0.2059 - val_loss: 1.6057 - val_categorical_accuracy: 0.2400\n",
            "\n",
            "Epoch 00005: saving model to model_init_2021-10-2010_44_04.137707/model-00005-1.60884-0.20588-1.60575-0.24000.h5\n",
            "\n",
            "Epoch 00005: ReduceLROnPlateau reducing learning rate to 0.0005000000237487257.\n",
            "Epoch 6/10\n",
            "34/34 [==============================] - 190s 6s/step - loss: 1.6118 - categorical_accuracy: 0.1667 - val_loss: 1.6062 - val_categorical_accuracy: 0.2300\n",
            "\n",
            "Epoch 00006: saving model to model_init_2021-10-2010_44_04.137707/model-00006-1.61178-0.16667-1.60624-0.23000.h5\n",
            "Epoch 7/10\n",
            "34/34 [==============================] - 180s 5s/step - loss: 1.6131 - categorical_accuracy: 0.1863 - val_loss: 1.6064 - val_categorical_accuracy: 0.2200\n",
            "\n",
            "Epoch 00007: saving model to model_init_2021-10-2010_44_04.137707/model-00007-1.61312-0.18627-1.60643-0.22000.h5\n",
            "\n",
            "Epoch 00007: ReduceLROnPlateau reducing learning rate to 0.0002500000118743628.\n",
            "Epoch 8/10\n",
            "34/34 [==============================] - 178s 5s/step - loss: 1.6121 - categorical_accuracy: 0.1569 - val_loss: 1.6056 - val_categorical_accuracy: 0.2800\n",
            "\n",
            "Epoch 00008: saving model to model_init_2021-10-2010_44_04.137707/model-00008-1.61212-0.15686-1.60556-0.28000.h5\n",
            "Epoch 9/10\n",
            "34/34 [==============================] - 178s 5s/step - loss: 1.6096 - categorical_accuracy: 0.1569 - val_loss: 1.6085 - val_categorical_accuracy: 0.2100\n",
            "\n",
            "Epoch 00009: saving model to model_init_2021-10-2010_44_04.137707/model-00009-1.60956-0.15686-1.60850-0.21000.h5\n",
            "\n",
            "Epoch 00009: ReduceLROnPlateau reducing learning rate to 0.0001250000059371814.\n",
            "Epoch 10/10\n",
            "34/34 [==============================] - 182s 5s/step - loss: 1.6067 - categorical_accuracy: 0.2157 - val_loss: 1.6070 - val_categorical_accuracy: 0.2500\n",
            "\n",
            "Epoch 00010: saving model to model_init_2021-10-2010_44_04.137707/model-00010-1.60666-0.21569-1.60704-0.25000.h5\n"
          ]
        },
        {
          "output_type": "execute_result",
          "data": {
            "text/plain": [
              "<keras.callbacks.History at 0x7f9b9ee92090>"
            ]
          },
          "metadata": {},
          "execution_count": 31
        }
      ]
    },
    {
      "cell_type": "code",
      "metadata": {
        "id": "R34TrIQONbqf"
      },
      "source": [
        ""
      ],
      "execution_count": null,
      "outputs": []
    }
  ]
}